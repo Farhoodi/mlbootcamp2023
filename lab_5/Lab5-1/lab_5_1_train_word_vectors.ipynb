{
 "cells": [
  {
   "cell_type": "code",
   "execution_count": 1,
   "id": "164d59ba",
   "metadata": {},
   "outputs": [],
   "source": [
    "get_ipython().run_line_magic('matplotlib', 'inline')\n",
    "import matplotlib.pyplot as plt\n",
    "from collections import Counter\n",
    "import numpy as np\n",
    "import time\n",
    "import torch\n",
    "import spacy\n",
    "from sklearn.model_selection import train_test_split\n",
    "\n"
   ]
  },
  {
   "cell_type": "code",
   "execution_count": 2,
   "id": "05e76ac9",
   "metadata": {},
   "outputs": [],
   "source": [
    "with open(\"SmallSimpleCorpus.txt\") as file:\n",
    "    small_corpora = file.readline()"
   ]
  },
  {
   "cell_type": "code",
   "execution_count": 3,
   "id": "d9ae787c",
   "metadata": {},
   "outputs": [
    {
     "data": {
      "text/plain": [
       "'I hold a dog.  I hold the dog.  I hold a cat.  I hold the cat.  I rub a dog.  I rub the dog.  I rub a cat.  I rub the cat.  I hold and rub a dog.  I hold and rub the dog.  I hold and rub a cat.  I hold and rub the cat.  I hold a dog and cat.  I hold the dog and cat.  I hold a cat and dog.  I hold the cat and dog.  I rub a dog and cat.  I rub the dog and cat.  I rub a cat and dog.  I rub the cat and dog.  I hold and rub a dog .  I hold and rub a cat.  I hold and rub the dog.  I hold and rub the cat .  I can hold a dog.  I can hold the dog.  I can hold a cat.  I can hold the cat.  I can rub a dog.  I can rub the dog.  I can rub a cat.  I can rub the cat.  I can hold a dog and cat.  I can hold the dog and cat.  I can hold a cat and dog.  I can hold the cat and dog.  I can hold and rub a dog.  I can hold and rub the dog.  I can hold and rub a cat.  I can hold and rub the cat.  I can rub a dog and cat.  I can rub the dog and cat.  I can rub a cat and dog.  I can rub the cat and dog.  I can rub and hold a cat.  I can rub and hold a dog.  I can rub and hold the cat.  I can rub and hold the dog.  She holds a dog.  She holds the dog.  She holds a cat.  She holds the cat.  She rubs a dog.  She rubs the dog.  She rubs a cat.  She rubs the cat.  She holds and rubs a dog.  She holds and rubs the dog.  She holds and rubs a cat.  She holds and rubs the cat.  She rubs and holds a dog .  She rubs and holds a cat.  She rubs and holds the dog.  She rubs and holds the cat.  She holds a dog and cat.  She holds the dog and cat.  She holds a cat and dog.  She holds the cat and dog.  She rubs a dog and cat.  She rubs the dog and cat.  She rubs a cat and dog.  She rubs the cat and dog.  She can hold a dog.  She can hold the dog.  She can hold a cat.  She can hold the cat.  She can rub a dog.  She can rub the dog.  She can rub a cat.  She can rub the cat.  She can hold a dog and cat.  She can hold the dog and cat.  She can hold a cat and dog.  She can hold the cat and dog.  She can hold and rub a dog.  She can hold and rub the dog.  She can hold and rub a cat.  She can hold and rub the cat.  She can rub a dog and cat.  She can rub the dog and cat.  She can rub a cat and dog.  She can rub the cat and dog.  She can rub and hold a cat.  She can rub and hold a dog.  She can rub and hold the cat.  She can rub and hold the dog.  He holds a dog.  He holds the dog.  He holds a cat.  He holds the cat.  He rubs a dog.  He rubs the dog.  He rubs a cat.  He rubs the cat.  He holds and rubs a dog.  He holds and rubs the dog.  He holds and rubs a cat.  He holds and rubs the cat.  He rubs and holds a dog .  He rubs and holds a cat.  He rubs and holds the dog.  He rubs and holds the cat .  He holds a dog and cat.  He holds the dog and cat.  He holds a cat and dog.  He holds the cat and dog.  He rubs a dog and cat.  He rubs the dog and cat.  He rubs a cat and dog.  He rubs the cat and dog.  He can hold a dog.  He can hold the dog.  He can hold a cat.  He can hold the cat.  He can rub a dog.  He can rub the dog.  He can rub a cat.  He can rub the cat.  He can hold a dog and cat.  He can hold the dog and cat.  He can hold a cat and dog.  He can hold the cat and dog.  He can hold and rub a dog.  He can hold and rub the dog.  He can hold and rub a cat.  He can hold and rub the cat.  He can rub a dog and cat.  He can rub the dog and cat.  He can rub a cat and dog.  He can rub the cat and dog.  He can rub and hold a cat.  He can rub and hold a dog.  He can rub and hold the cat.  He can rub and hold the dog.  He and I hold a dog.  He and I hold the dog.  He and I hold a cat.  He and I hold the cat.  He and I rub a dog.  He and I rub the dog.  He and I rub a cat.  He and I rub the cat.  He and I can hold a dog.  He and I can hold the dog.  He and I can hold a cat.  He and I can hold the cat.  He and I can rub a dog.  He and I can rub the dog.  He and I can rub a cat.  He and I can rub the cat.  She and I hold a dog.  She and I hold the dog.  She and I hold a cat.  She and I hold the cat.  She and I rub a dog.  She and I rub the dog.  She and I rub a cat.  She and I rub the cat.  She and I can hold a dog.  She and I can hold the dog.  She and I can hold a cat.  She and I can hold the cat.  She and I can rub a dog.  She and I can rub the dog.  She and I can rub a cat.  She and I can rub the cat.  She and he hold a dog.  She and he hold the dog.  She and he hold a cat.  She and he hold the cat.  She and he rub a dog.  She and he rub the dog.  She and he rub a cat.  She and he rub the cat.  She and he can hold a dog.  She and he can hold the dog.  She and he can hold a cat.  She and he can hold the cat.  She and he can rub a dog.  She and he can rub the dog.  She and he can rub a cat.  She and he can rub the cat.  He and she hold a dog.  He and she hold the dog.  He and she hold a cat.  He and she hold the cat.  He and she rub a dog.  He and she rub the dog.  He and she rub a cat.  He and she rub the cat.  He and she can hold a dog.  He and she can hold the dog.  He and she can hold a cat.  He and she can hold the cat.  He and she can rub a dog.  He and she can rub the dog.  He and she can rub a cat.  He and she can rub the cat.  \\n'"
      ]
     },
     "execution_count": 3,
     "metadata": {},
     "output_type": "execute_result"
    }
   ],
   "source": [
    "# get rid of final period + newline which is interpreted differently for some strange reason\n",
    "small_corpora=small_corpora[:-1] + \" \\n\"  \n",
    "\n",
    "small_corpora"
   ]
  },
  {
   "cell_type": "code",
   "execution_count": 4,
   "id": "6335bf81",
   "metadata": {},
   "outputs": [],
   "source": [
    "# prepare text using the spacy english pipeline (see https://spacy.io/models/en)\n",
    "# we'll use it to lemmatize the text, and determine which part of speech each\n",
    "# lemmatize edits words to become the 'root' word - e.g. holds -> hold;  rubs->rub\n",
    "# part of speech indicates if the item is a verb, nooun, punctuation, space and so on.\n",
    "# make sure that the text sent to spacy doesn't end with a period immediately followed by a newline,\n",
    "# instead, make sure there is a space between the period and the newline, so that the last period \n",
    "# is correctly identified as punctuation.\n",
    "\n",
    "def prepare_texts(text):    \n",
    "    # Get a callable object from spaCy that processes the text - lemmatizes and determines part of speech\n",
    "\n",
    "    nlp = spacy.load(\"en_core_web_sm\")\n",
    "    \n",
    "    # lemmatize the text, get part of speech, and remove spaces and punctuation\n",
    "    \n",
    "    lemmas = [tok.lemma_ for tok in nlp(text) if tok.pos_ not in [\"PUNCT\", \"SPACE\"]]\n",
    "    \n",
    "    # count the number of occurences of each word in the vocabulary\n",
    "    \n",
    "    freqs = Counter()  # word -> occurrence\n",
    "    for w in lemmas:\n",
    "        freqs[w] += 1\n",
    "        \n",
    "    vocab = list(freqs.items())  # List of (word, occurrence)\n",
    "    \n",
    "    vocab = sorted(vocab, key=lambda item: item[1], reverse=True)  # Sort by decreasing frequency\n",
    "    print(vocab)\n",
    "    \n",
    "    # create word->index dictionary and index->word dictionary\n",
    "    v2i = {v[0]:i for i,v in enumerate(vocab)}\n",
    "    i2v = {i:v[0] for i,v in enumerate(vocab)}\n",
    "    \n",
    "    return lemmas, v2i, i2v"
   ]
  },
  {
   "cell_type": "code",
   "execution_count": 6,
   "id": "732bf722",
   "metadata": {},
   "outputs": [
    {
     "name": "stdout",
     "output_type": "stream",
     "text": [
      "[('and', 160), ('hold', 128), ('dog', 128), ('cat', 128), ('rub', 128), ('a', 104), ('the', 104), ('can', 104), ('she', 96), ('he', 96), ('I', 80)]\n",
      "small_corpora number of lemmatized words: 1256\n",
      "small_corpora Vocabulary size: 11\n"
     ]
    }
   ],
   "source": [
    "lemmas, v2i, i2v = prepare_texts(small_corpora)\n",
    "print(\"small_corpora number of lemmatized words:\", len(lemmas))\n",
    "print(\"small_corpora Vocabulary size:\", len(list(set(lemmas))))"
   ]
  },
  {
   "cell_type": "markdown",
   "id": "3b6f0a4f",
   "metadata": {},
   "source": [
    "#### This following function walks through each word, and looks at a window (of size 'window') of words and creates input/output prediction pairs, predicting each of the words surrounding the current word from the current word.  So here we say that we are 'predicting the context' from the word"
   ]
  },
  {
   "cell_type": "code",
   "execution_count": 7,
   "id": "0d7b0cd6",
   "metadata": {},
   "outputs": [],
   "source": [
    "def tokenize_and_preprocess_text(textlist, v2i, window):\n",
    "\n",
    "    # Predict context with word. Sample the context within a window size.\n",
    "\n",
    "    X, Y = [], []  # is the list of training/test samples\n",
    "    tokenized = [v2i[w] for w in textlist]\n",
    "    \n",
    "    for i, t in enumerate(tokenized):  # loop through each WORD\n",
    "        for j in range(max(0, i-window//2), min(len(textlist), i+window//2)):\n",
    "            if j == i: continue  # i.e. don't predict the WORD itself\n",
    "            X.append(t)\n",
    "            Y.append(tokenized[j])\n",
    "    return X, Y"
   ]
  },
  {
   "cell_type": "markdown",
   "id": "dd2381c4",
   "metadata": {},
   "source": [
    "## Define Model that will be trained to produce word vectors"
   ]
  },
  {
   "cell_type": "code",
   "execution_count": 8,
   "id": "84167e3a",
   "metadata": {},
   "outputs": [],
   "source": [
    "class Word2vecModel(torch.nn.Module):\n",
    "    def __init__(self, vocab_size, embedding_size):\n",
    "        super().__init__()\n",
    "        # initialize word vectors to random number; \n",
    "        self.embedding = torch.nn.Parameter(torch.rand(vocab_size, embedding_size)) # * 0.01)\n",
    "        \n",
    "        # prediction function takes embedding as input, and predicts which word in vocabulary as output\n",
    "        self.predictor = torch.nn.Linear(embedding_size, vocab_size)\n",
    "        \n",
    "    def forward(self, x):\n",
    "        \"\"\"\n",
    "        x: torch.tensor of shape (L), L number of words input in a batch\n",
    "        \"\"\"\n",
    "        e = self.embedding[x]  # (L, embedding_size)\n",
    "        logits = self.predictor(e)  # (L, vocab_size)\n",
    "        return logits, e"
   ]
  },
  {
   "cell_type": "markdown",
   "id": "cc3f6d07",
   "metadata": {},
   "source": [
    "### The training function - give it the lemmatized text and it does the rest"
   ]
  },
  {
   "cell_type": "code",
   "execution_count": 9,
   "id": "994f2e82",
   "metadata": {},
   "outputs": [],
   "source": [
    "def train_word2vec(textlist, window, embedding_size):\n",
    "    # Set up a model with Skip-gram (predict context with word)\n",
    "    # textlist: a list of the strings\n",
    "\n",
    "    vocab_size = len(v2i)\n",
    "    \n",
    "    # Create the training data\n",
    "    \n",
    "    X, Y = tokenize_and_preprocess_text(textlist, v2i, window)\n",
    "    \n",
    "    # Split the training data\n",
    "    \n",
    "    X_train, X_test, Y_train, Y_test = train_test_split(X, Y, test_size=0.2)\n",
    "    \n",
    "    # instantiate the network & set up the optimizer\n",
    "    \n",
    "    network = Word2vecModel(vocab_size, embedding_size)\n",
    "    optim = torch.optim.Adam(network.parameters(), lr=1e-3)\n",
    "    \n",
    "    bsz = 4  # batch size\n",
    "    num_epochs = 50\n",
    "    start_time = time.time()\n",
    "    \n",
    "    # training loop\n",
    "    \n",
    "    for epoch in range(num_epochs):\n",
    "        train_losses = []\n",
    "        for i in range(0, len(X_train)-bsz, bsz):\n",
    "            X_batch = torch.tensor(X_train[i: i+bsz])\n",
    "            Y_batch = torch.tensor(Y_train[i: i+bsz])\n",
    "            logits, _ = network.forward(X_batch)\n",
    "            loss = torch.nn.CrossEntropyLoss()(logits, Y_batch)\n",
    "            loss.backward()\n",
    "            optim.step()\n",
    "            optim.zero_grad()\n",
    "            train_losses.append(loss.item())\n",
    "        \n",
    "        # Eval the embedding\n",
    "        if epoch % 10 == 9:\n",
    "            X_batch = torch.tensor(X_test)\n",
    "            Y_batch = torch.tensor(Y_test)\n",
    "            with torch.no_grad():\n",
    "                logits, _ = network.forward(X_batch)\n",
    "                test_loss = torch.nn.CrossEntropyLoss()(logits, Y_batch).item()\n",
    "            avg_train_loss = np.mean(train_losses)\n",
    "            \n",
    "            perplexity = np.exp(test_loss)  # Just an approximate. Should use test loss\n",
    "            print(\"Epoch {: <3}, avg train loss {:.4f}, val loss {:.4f}, perplexity {:.4f}\".format(\n",
    "                epoch+1, avg_train_loss, test_loss, perplexity))\n",
    "\n",
    "    print (\"Done in {:.2f} seconds\".format(time.time() - start_time))\n",
    "    return network"
   ]
  },
  {
   "cell_type": "markdown",
   "id": "d319523d",
   "metadata": {},
   "source": [
    "### Run Training and retrieve embedding"
   ]
  },
  {
   "cell_type": "code",
   "execution_count": 10,
   "id": "751b4c16",
   "metadata": {},
   "outputs": [
    {
     "name": "stdout",
     "output_type": "stream",
     "text": [
      "Epoch 10 , avg train loss 2.3170, val loss 2.3234, perplexity 10.2099\n",
      "Epoch 20 , avg train loss 2.2572, val loss 2.2731, perplexity 9.7098\n",
      "Epoch 30 , avg train loss 2.2467, val loss 2.2644, perplexity 9.6253\n",
      "Epoch 40 , avg train loss 2.2419, val loss 2.2612, perplexity 9.5948\n",
      "Epoch 50 , avg train loss 2.2388, val loss 2.2600, perplexity 9.5831\n",
      "Done in 244.55 seconds\n"
     ]
    }
   ],
   "source": [
    "window = 5\n",
    "embedding_size = 2\n",
    "\n",
    "np.random.seed(43)\n",
    "torch.manual_seed(43)\n",
    "\n",
    "network = train_word2vec(lemmas,window,embedding_size)\n",
    "embedding = network.embedding"
   ]
  },
  {
   "cell_type": "markdown",
   "id": "7ac1b7b6",
   "metadata": {},
   "source": [
    "### Display 2-dimensional embedding on a 2-D Plot - points and words"
   ]
  },
  {
   "cell_type": "code",
   "execution_count": 10,
   "id": "8aecc16c",
   "metadata": {},
   "outputs": [
    {
     "name": "stdout",
     "output_type": "stream",
     "text": [
      "Visualizing the 0 to 11 most frequent words\n"
     ]
    },
    {
     "data": {
      "image/png": "[encoded data removed]",
      "text/plain": [
       "<Figure size 1000x800 with 1 Axes>"
      ]
     },
     "metadata": {},
     "output_type": "display_data"
    }
   ],
   "source": [
    "def visualize_embedding(embedding, most_frequent_from=0, most_frequent_to=40):\n",
    "    assert embedding.shape[1] == 2, \"This only supports visualizing 2-d embeddings!\"\n",
    "    print (\"Visualizing the {} to {} most frequent words\".format(most_frequent_from, most_frequent_to))\n",
    "    fig = plt.figure(figsize=(10,8))\n",
    "    ax = fig.gca()\n",
    "    x, y = embedding[most_frequent_from:most_frequent_to,0], embedding[most_frequent_from:most_frequent_to,1]\n",
    "    plt.scatter(x, y)\n",
    "\n",
    "    for i in range(len(x)):\n",
    "        ax.annotate(i2v[i], (x[i]+0.02, y[i]))\n",
    "        \n",
    "    plt.xlabel(\"The first dimension\")\n",
    "    plt.ylabel(\"The second dimension\")\n",
    "    plt.title(\"Visualizing the embedding\")\n",
    "    plt.show()\n",
    "    \n",
    "visualize_embedding(embedding.detach().numpy(), most_frequent_from=0, most_frequent_to=11)    "
   ]
  },
  {
   "cell_type": "markdown",
   "id": "489a25d2",
   "metadata": {},
   "source": [
    "### Find nearest neighbors\n"
   ]
  },
  {
   "cell_type": "code",
   "execution_count": 11,
   "id": "f04fa834",
   "metadata": {},
   "outputs": [
    {
     "name": "stdout",
     "output_type": "stream",
     "text": [
      "Nearest neighbors for and        the\n",
      "Nearest neighbors for hold       she\n",
      "Nearest neighbors for dog        cat\n",
      "Nearest neighbors for cat        dog\n",
      "Nearest neighbors for rub        hold\n",
      "Nearest neighbors for a          the\n",
      "Nearest neighbors for the        a\n",
      "Nearest neighbors for can        and\n",
      "Nearest neighbors for she        he\n",
      "Nearest neighbors for he         she\n",
      "Nearest neighbors for I          he\n"
     ]
    }
   ],
   "source": [
    "def nearest_neighbors(embedding, textlist, topn=3, most_frequent_from=0, most_frequent_to=20):\n",
    "    for i, w in enumerate(v2i):\n",
    "        if i >= most_frequent_from:\n",
    "            vec = embedding[i]\n",
    "            sims = [(j,torch.nn.functional.cosine_similarity(vec, x, dim=0).item()) for j,x in enumerate(embedding) if j != i]\n",
    "            sorted_sims = sorted(sims, key=lambda item: item[1], reverse=True)\n",
    "            nearest_neighbor_ids = [item[0] for item in sorted_sims[:topn]]\n",
    "            nearest_neighbor_words = [i2v[i] for i in nearest_neighbor_ids]\n",
    "            print(\"Nearest neighbors for {: <10} {}\".format(w, \",\".join(nearest_neighbor_words)))\n",
    "        if i == most_frequent_to:\n",
    "            break\n",
    "        \n",
    "nearest_neighbors(network.embedding.data, lemmas, topn=1, most_frequent_from=0, most_frequent_to=20)\n",
    "\n",
    "\n"
   ]
  }
 ],
 "metadata": {
  "kernelspec": {
   "display_name": "Python 3 (ipykernel)",
   "language": "python",
   "name": "python3"
  },
  "language_info": {
   "codemirror_mode": {
    "name": "ipython",
    "version": 3
   },
   "file_extension": ".py",
   "mimetype": "text/x-python",
   "name": "python",
   "nbconvert_exporter": "python",
   "pygments_lexer": "ipython3",
   "version": "3.10.11"
  }
 },
 "nbformat": 4,
 "nbformat_minor": 5
}
